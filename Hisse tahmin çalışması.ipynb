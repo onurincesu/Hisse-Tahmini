{
 "cells": [
  {
   "cell_type": "code",
   "execution_count": 1,
   "id": "a1fe708e",
   "metadata": {},
   "outputs": [],
   "source": [
    "import pandas as pd\n",
    "import numpy as np\n",
    "from bs4 import BeautifulSoup\n",
    "import requests"
   ]
  },
  {
   "cell_type": "code",
   "execution_count": 2,
   "id": "e133c99e",
   "metadata": {},
   "outputs": [
    {
     "data": {
      "text/plain": [
       "<title>TCMB - Tüketici Fiyatları</title>"
      ]
     },
     "execution_count": 2,
     "metadata": {},
     "output_type": "execute_result"
    }
   ],
   "source": [
    "e=requests.get(\"https://www.tcmb.gov.tr/wps/wcm/connect/TR/TCMB+TR/Main+Menu/Istatistikler/Enflasyon+Verileri/Tuketici+Fiyatlari\")\n",
    "source_e=BeautifulSoup(e.content,\"html.parser\")\n",
    "source_e.title"
   ]
  },
  {
   "cell_type": "code",
   "execution_count": 3,
   "id": "affa4658",
   "metadata": {},
   "outputs": [],
   "source": [
    "tablolar=source_e.find(\"tbody\")\n",
    "veri=tablolar.find_all(\"tr\")\n",
    "\n",
    "aylık=[]\n",
    "yıllık=[]\n",
    "tarih=[]\n",
    "\n",
    "for i in veri:\n",
    "    tarih.append(i.find_all(\"td\")[0].text)\n",
    "    yıllık.append(i.find_all(\"td\")[1].text)\n",
    "    aylık.append(i.find_all(\"td\")[2].text)\n",
    "    \n",
    "enflasyon={\"Tarih\":tarih,\"Yıllık TÜFE\":yıllık,\"Aylık TÜFE\":aylık}\n",
    "df_e=pd.DataFrame(enflasyon)\n",
    "df_e.to_excel(\"12 yıllık enflasyon.xlsx\")"
   ]
  },
  {
   "cell_type": "code",
   "execution_count": 4,
   "id": "39ce8530",
   "metadata": {},
   "outputs": [
    {
     "data": {
      "text/html": [
       "<div>\n",
       "<style scoped>\n",
       "    .dataframe tbody tr th:only-of-type {\n",
       "        vertical-align: middle;\n",
       "    }\n",
       "\n",
       "    .dataframe tbody tr th {\n",
       "        vertical-align: top;\n",
       "    }\n",
       "\n",
       "    .dataframe thead th {\n",
       "        text-align: right;\n",
       "    }\n",
       "</style>\n",
       "<table border=\"1\" class=\"dataframe\">\n",
       "  <thead>\n",
       "    <tr style=\"text-align: right;\">\n",
       "      <th></th>\n",
       "      <th>Tarih</th>\n",
       "      <th>Yıllık TÜFE</th>\n",
       "      <th>Aylık TÜFE</th>\n",
       "    </tr>\n",
       "  </thead>\n",
       "  <tbody>\n",
       "    <tr>\n",
       "      <th>0</th>\n",
       "      <td>01-2024</td>\n",
       "      <td>64.86</td>\n",
       "      <td>6.70</td>\n",
       "    </tr>\n",
       "    <tr>\n",
       "      <th>1</th>\n",
       "      <td>12-2023</td>\n",
       "      <td>64.77</td>\n",
       "      <td>2.93</td>\n",
       "    </tr>\n",
       "    <tr>\n",
       "      <th>2</th>\n",
       "      <td>11-2023</td>\n",
       "      <td>61.98</td>\n",
       "      <td>3.28</td>\n",
       "    </tr>\n",
       "    <tr>\n",
       "      <th>3</th>\n",
       "      <td>10-2023</td>\n",
       "      <td>61.36</td>\n",
       "      <td>3.43</td>\n",
       "    </tr>\n",
       "    <tr>\n",
       "      <th>4</th>\n",
       "      <td>09-2023</td>\n",
       "      <td>61.53</td>\n",
       "      <td>4.75</td>\n",
       "    </tr>\n",
       "  </tbody>\n",
       "</table>\n",
       "</div>"
      ],
      "text/plain": [
       "     Tarih Yıllık TÜFE Aylık TÜFE\n",
       "0  01-2024       64.86       6.70\n",
       "1  12-2023       64.77       2.93\n",
       "2  11-2023       61.98       3.28\n",
       "3  10-2023       61.36       3.43\n",
       "4  09-2023       61.53       4.75"
      ]
     },
     "execution_count": 4,
     "metadata": {},
     "output_type": "execute_result"
    }
   ],
   "source": [
    "df_e.head()"
   ]
  },
  {
   "cell_type": "code",
   "execution_count": 5,
   "id": "150d33a7",
   "metadata": {},
   "outputs": [],
   "source": [
    "#hisse verileri çekme."
   ]
  },
  {
   "cell_type": "code",
   "execution_count": 6,
   "id": "4b9cafb1",
   "metadata": {},
   "outputs": [
    {
     "name": "stderr",
     "output_type": "stream",
     "text": [
      "C:\\Users\\onur_\\anaconda3\\lib\\site-packages\\yfinance\\base.py:48: FutureWarning: The default dtype for empty Series will be 'object' instead of 'float64' in a future version. Specify a dtype explicitly to silence this warning.\n",
      "  _empty_series = pd.Series()\n"
     ]
    }
   ],
   "source": [
    "import yfinance as yf"
   ]
  },
  {
   "cell_type": "code",
   "execution_count": 7,
   "id": "1932ccfb",
   "metadata": {},
   "outputs": [
    {
     "name": "stderr",
     "output_type": "stream",
     "text": [
      "[*********************100%%**********************]  1 of 1 completed\n"
     ]
    }
   ],
   "source": [
    "thyao= yf.download(\"THYAO.IS\",\"2005-01-01\",\"2023-12-31\", interval='1mo')\n",
    "thyao.to_excel(\"THYAO.IS 12 yıllık.xlsx\")\n"
   ]
  },
  {
   "cell_type": "code",
   "execution_count": 9,
   "id": "996adce3",
   "metadata": {},
   "outputs": [
    {
     "name": "stderr",
     "output_type": "stream",
     "text": [
      "[*********************100%%**********************]  1 of 1 completed\n"
     ]
    }
   ],
   "source": [
    "bist100=yf.download(\"XU100.IS\",\"2005-01-01\",\"2023-12-31\", interval='1mo')\n",
    "bist100.to_excel(\"XU100.IS 12 yıllık.xlsx\")"
   ]
  },
  {
   "cell_type": "code",
   "execution_count": 11,
   "id": "9f6727d9",
   "metadata": {},
   "outputs": [
    {
     "name": "stderr",
     "output_type": "stream",
     "text": [
      "[*********************100%%**********************]  1 of 1 completed\n"
     ]
    }
   ],
   "source": [
    "dolar=yf.download(\"TRY=X\",\"2005-01-01\",\"2023-12-31\", interval='1mo')\n",
    "dolar.to_excel(\"Dolar 12 yıllık.xlsx\")"
   ]
  },
  {
   "cell_type": "code",
   "execution_count": 12,
   "id": "522c90a9",
   "metadata": {},
   "outputs": [
    {
     "data": {
      "text/html": [
       "<div>\n",
       "<style scoped>\n",
       "    .dataframe tbody tr th:only-of-type {\n",
       "        vertical-align: middle;\n",
       "    }\n",
       "\n",
       "    .dataframe tbody tr th {\n",
       "        vertical-align: top;\n",
       "    }\n",
       "\n",
       "    .dataframe thead th {\n",
       "        text-align: right;\n",
       "    }\n",
       "</style>\n",
       "<table border=\"1\" class=\"dataframe\">\n",
       "  <thead>\n",
       "    <tr style=\"text-align: right;\">\n",
       "      <th></th>\n",
       "      <th>Date</th>\n",
       "      <th>Open</th>\n",
       "      <th>High</th>\n",
       "      <th>Low</th>\n",
       "      <th>Close</th>\n",
       "      <th>Adj Close</th>\n",
       "      <th>Volume</th>\n",
       "    </tr>\n",
       "  </thead>\n",
       "  <tbody>\n",
       "    <tr>\n",
       "      <th>1</th>\n",
       "      <td>2005-02-01</td>\n",
       "      <td>27330.400</td>\n",
       "      <td>28409.5</td>\n",
       "      <td>26403.801</td>\n",
       "      <td>28396.199</td>\n",
       "      <td>28396.199</td>\n",
       "      <td>5888983600</td>\n",
       "    </tr>\n",
       "    <tr>\n",
       "      <th>2</th>\n",
       "      <td>2005-03-01</td>\n",
       "      <td>28396.199</td>\n",
       "      <td>28400.0</td>\n",
       "      <td>23874.699</td>\n",
       "      <td>25557.801</td>\n",
       "      <td>25557.801</td>\n",
       "      <td>4905866300</td>\n",
       "    </tr>\n",
       "    <tr>\n",
       "      <th>3</th>\n",
       "      <td>2005-04-01</td>\n",
       "      <td>25557.801</td>\n",
       "      <td>26229.0</td>\n",
       "      <td>22887.900</td>\n",
       "      <td>23591.600</td>\n",
       "      <td>23591.600</td>\n",
       "      <td>3873826400</td>\n",
       "    </tr>\n",
       "    <tr>\n",
       "      <th>4</th>\n",
       "      <td>2005-05-01</td>\n",
       "      <td>23591.600</td>\n",
       "      <td>25633.5</td>\n",
       "      <td>23591.600</td>\n",
       "      <td>25236.500</td>\n",
       "      <td>25236.500</td>\n",
       "      <td>4275624900</td>\n",
       "    </tr>\n",
       "    <tr>\n",
       "      <th>5</th>\n",
       "      <td>2005-06-01</td>\n",
       "      <td>25236.500</td>\n",
       "      <td>27417.9</td>\n",
       "      <td>25081.400</td>\n",
       "      <td>26957.301</td>\n",
       "      <td>26957.301</td>\n",
       "      <td>4120207400</td>\n",
       "    </tr>\n",
       "  </tbody>\n",
       "</table>\n",
       "</div>"
      ],
      "text/plain": [
       "        Date       Open     High        Low      Close  Adj Close      Volume\n",
       "1 2005-02-01  27330.400  28409.5  26403.801  28396.199  28396.199  5888983600\n",
       "2 2005-03-01  28396.199  28400.0  23874.699  25557.801  25557.801  4905866300\n",
       "3 2005-04-01  25557.801  26229.0  22887.900  23591.600  23591.600  3873826400\n",
       "4 2005-05-01  23591.600  25633.5  23591.600  25236.500  25236.500  4275624900\n",
       "5 2005-06-01  25236.500  27417.9  25081.400  26957.301  26957.301  4120207400"
      ]
     },
     "execution_count": 12,
     "metadata": {},
     "output_type": "execute_result"
    }
   ],
   "source": [
    "bist=pd.read_excel(\"XU100.IS 12 yıllık.xlsx\")\n",
    "bist=bist.round(3).drop(0)\n",
    "bist.head()"
   ]
  },
  {
   "cell_type": "code",
   "execution_count": 13,
   "id": "44e952ef",
   "metadata": {},
   "outputs": [
    {
     "data": {
      "text/html": [
       "<div>\n",
       "<style scoped>\n",
       "    .dataframe tbody tr th:only-of-type {\n",
       "        vertical-align: middle;\n",
       "    }\n",
       "\n",
       "    .dataframe tbody tr th {\n",
       "        vertical-align: top;\n",
       "    }\n",
       "\n",
       "    .dataframe thead th {\n",
       "        text-align: right;\n",
       "    }\n",
       "</style>\n",
       "<table border=\"1\" class=\"dataframe\">\n",
       "  <thead>\n",
       "    <tr style=\"text-align: right;\">\n",
       "      <th></th>\n",
       "      <th>Date</th>\n",
       "      <th>Open</th>\n",
       "      <th>High</th>\n",
       "      <th>Low</th>\n",
       "      <th>Close</th>\n",
       "      <th>Adj Close</th>\n",
       "      <th>Volume</th>\n",
       "    </tr>\n",
       "  </thead>\n",
       "  <tbody>\n",
       "    <tr>\n",
       "      <th>1</th>\n",
       "      <td>2005-02-01</td>\n",
       "      <td>0.964</td>\n",
       "      <td>0.970</td>\n",
       "      <td>0.888</td>\n",
       "      <td>0.938</td>\n",
       "      <td>0.865</td>\n",
       "      <td>137200367</td>\n",
       "    </tr>\n",
       "    <tr>\n",
       "      <th>2</th>\n",
       "      <td>2005-03-01</td>\n",
       "      <td>0.932</td>\n",
       "      <td>0.951</td>\n",
       "      <td>0.780</td>\n",
       "      <td>0.805</td>\n",
       "      <td>0.742</td>\n",
       "      <td>170937923</td>\n",
       "    </tr>\n",
       "    <tr>\n",
       "      <th>3</th>\n",
       "      <td>2005-04-01</td>\n",
       "      <td>0.837</td>\n",
       "      <td>0.850</td>\n",
       "      <td>0.659</td>\n",
       "      <td>0.666</td>\n",
       "      <td>0.614</td>\n",
       "      <td>90457689</td>\n",
       "    </tr>\n",
       "    <tr>\n",
       "      <th>4</th>\n",
       "      <td>2005-05-01</td>\n",
       "      <td>0.710</td>\n",
       "      <td>0.818</td>\n",
       "      <td>0.678</td>\n",
       "      <td>0.805</td>\n",
       "      <td>0.742</td>\n",
       "      <td>123697411</td>\n",
       "    </tr>\n",
       "    <tr>\n",
       "      <th>5</th>\n",
       "      <td>2005-06-01</td>\n",
       "      <td>0.818</td>\n",
       "      <td>0.995</td>\n",
       "      <td>0.805</td>\n",
       "      <td>0.945</td>\n",
       "      <td>0.871</td>\n",
       "      <td>126201054</td>\n",
       "    </tr>\n",
       "  </tbody>\n",
       "</table>\n",
       "</div>"
      ],
      "text/plain": [
       "        Date   Open   High    Low  Close  Adj Close     Volume\n",
       "1 2005-02-01  0.964  0.970  0.888  0.938      0.865  137200367\n",
       "2 2005-03-01  0.932  0.951  0.780  0.805      0.742  170937923\n",
       "3 2005-04-01  0.837  0.850  0.659  0.666      0.614   90457689\n",
       "4 2005-05-01  0.710  0.818  0.678  0.805      0.742  123697411\n",
       "5 2005-06-01  0.818  0.995  0.805  0.945      0.871  126201054"
      ]
     },
     "execution_count": 13,
     "metadata": {},
     "output_type": "execute_result"
    }
   ],
   "source": [
    "thy=pd.read_excel(\"THYAO.IS 12 yıllık.xlsx\")\n",
    "thy=thy.round(3).drop(0)\n",
    "thy.head()"
   ]
  },
  {
   "cell_type": "code",
   "execution_count": 14,
   "id": "89ab9cba",
   "metadata": {},
   "outputs": [
    {
     "data": {
      "text/html": [
       "<div>\n",
       "<style scoped>\n",
       "    .dataframe tbody tr th:only-of-type {\n",
       "        vertical-align: middle;\n",
       "    }\n",
       "\n",
       "    .dataframe tbody tr th {\n",
       "        vertical-align: top;\n",
       "    }\n",
       "\n",
       "    .dataframe thead th {\n",
       "        text-align: right;\n",
       "    }\n",
       "</style>\n",
       "<table border=\"1\" class=\"dataframe\">\n",
       "  <thead>\n",
       "    <tr style=\"text-align: right;\">\n",
       "      <th></th>\n",
       "      <th>Date</th>\n",
       "      <th>Open</th>\n",
       "      <th>High</th>\n",
       "      <th>Low</th>\n",
       "      <th>Close</th>\n",
       "      <th>Adj Close</th>\n",
       "      <th>Volume</th>\n",
       "    </tr>\n",
       "  </thead>\n",
       "  <tbody>\n",
       "    <tr>\n",
       "      <th>0</th>\n",
       "      <td>2005-02-01</td>\n",
       "      <td>1.327</td>\n",
       "      <td>1.340</td>\n",
       "      <td>1.271</td>\n",
       "      <td>1.278</td>\n",
       "      <td>1.278</td>\n",
       "      <td>0</td>\n",
       "    </tr>\n",
       "    <tr>\n",
       "      <th>1</th>\n",
       "      <td>2005-03-01</td>\n",
       "      <td>1.271</td>\n",
       "      <td>1.391</td>\n",
       "      <td>1.243</td>\n",
       "      <td>1.349</td>\n",
       "      <td>1.349</td>\n",
       "      <td>0</td>\n",
       "    </tr>\n",
       "    <tr>\n",
       "      <th>2</th>\n",
       "      <td>2005-04-01</td>\n",
       "      <td>1.340</td>\n",
       "      <td>1.395</td>\n",
       "      <td>1.319</td>\n",
       "      <td>1.382</td>\n",
       "      <td>1.382</td>\n",
       "      <td>0</td>\n",
       "    </tr>\n",
       "    <tr>\n",
       "      <th>3</th>\n",
       "      <td>2005-05-01</td>\n",
       "      <td>1.384</td>\n",
       "      <td>1.387</td>\n",
       "      <td>1.338</td>\n",
       "      <td>1.357</td>\n",
       "      <td>1.357</td>\n",
       "      <td>0</td>\n",
       "    </tr>\n",
       "    <tr>\n",
       "      <th>4</th>\n",
       "      <td>2005-06-01</td>\n",
       "      <td>1.354</td>\n",
       "      <td>1.379</td>\n",
       "      <td>1.327</td>\n",
       "      <td>1.327</td>\n",
       "      <td>1.327</td>\n",
       "      <td>0</td>\n",
       "    </tr>\n",
       "  </tbody>\n",
       "</table>\n",
       "</div>"
      ],
      "text/plain": [
       "        Date   Open   High    Low  Close  Adj Close  Volume\n",
       "0 2005-02-01  1.327  1.340  1.271  1.278      1.278       0\n",
       "1 2005-03-01  1.271  1.391  1.243  1.349      1.349       0\n",
       "2 2005-04-01  1.340  1.395  1.319  1.382      1.382       0\n",
       "3 2005-05-01  1.384  1.387  1.338  1.357      1.357       0\n",
       "4 2005-06-01  1.354  1.379  1.327  1.327      1.327       0"
      ]
     },
     "execution_count": 14,
     "metadata": {},
     "output_type": "execute_result"
    }
   ],
   "source": [
    "usd=pd.read_excel(\"Dolar 12 yıllık.xlsx\")\n",
    "usd=usd.round(3)\n",
    "usd.head()"
   ]
  },
  {
   "cell_type": "code",
   "execution_count": 15,
   "id": "1b6dee4a",
   "metadata": {},
   "outputs": [
    {
     "data": {
      "text/html": [
       "<div>\n",
       "<style scoped>\n",
       "    .dataframe tbody tr th:only-of-type {\n",
       "        vertical-align: middle;\n",
       "    }\n",
       "\n",
       "    .dataframe tbody tr th {\n",
       "        vertical-align: top;\n",
       "    }\n",
       "\n",
       "    .dataframe thead th {\n",
       "        text-align: right;\n",
       "    }\n",
       "</style>\n",
       "<table border=\"1\" class=\"dataframe\">\n",
       "  <thead>\n",
       "    <tr style=\"text-align: right;\">\n",
       "      <th></th>\n",
       "      <th>Yıllık TÜFE</th>\n",
       "      <th>Aylık TÜFE</th>\n",
       "    </tr>\n",
       "  </thead>\n",
       "  <tbody>\n",
       "    <tr>\n",
       "      <th>0</th>\n",
       "      <td>9.24</td>\n",
       "      <td>0.55</td>\n",
       "    </tr>\n",
       "    <tr>\n",
       "      <th>1</th>\n",
       "      <td>8.69</td>\n",
       "      <td>0.02</td>\n",
       "    </tr>\n",
       "    <tr>\n",
       "      <th>2</th>\n",
       "      <td>7.94</td>\n",
       "      <td>0.26</td>\n",
       "    </tr>\n",
       "    <tr>\n",
       "      <th>3</th>\n",
       "      <td>8.18</td>\n",
       "      <td>0.71</td>\n",
       "    </tr>\n",
       "    <tr>\n",
       "      <th>4</th>\n",
       "      <td>8.70</td>\n",
       "      <td>0.92</td>\n",
       "    </tr>\n",
       "  </tbody>\n",
       "</table>\n",
       "</div>"
      ],
      "text/plain": [
       "   Yıllık TÜFE  Aylık TÜFE\n",
       "0         9.24        0.55\n",
       "1         8.69        0.02\n",
       "2         7.94        0.26\n",
       "3         8.18        0.71\n",
       "4         8.70        0.92"
      ]
     },
     "execution_count": 15,
     "metadata": {},
     "output_type": "execute_result"
    }
   ],
   "source": [
    "enf=pd.read_excel(\"12 yıllık enflasyon.xlsx\")\n",
    "enf=enf.drop(columns={\"Unnamed: 0\",\"Tarih\"},axis=1)[::-1].drop(0).reset_index(drop=True)\n",
    "enf.head()"
   ]
  },
  {
   "cell_type": "code",
   "execution_count": 16,
   "id": "dca377da",
   "metadata": {},
   "outputs": [],
   "source": [
    "usd=usd.drop(columns={\"Open\",\"High\",\"Low\",\"Adj Close\",\"Volume\"},axis=1).rename(columns={\"Close\":\"USD_Kapanış\"})\n",
    "\n",
    "bist=bist.drop(columns={\"Open\",\"High\",\"Low\",\"Adj Close\"},axis=1).rename(columns={\n",
    "\"Close\":\"BIST_Kapanış\",\"Volume\":\"BIST_Hacim\"})\n",
    "\n",
    "thy=thy.drop(columns={\"Open\",\"High\",\"Low\",\"Adj Close\"},axis=1).rename(columns={\n",
    "\"Close\":\"THY_Kapanış\",\"Volume\":\"THY_Hacim\"})"
   ]
  },
  {
   "cell_type": "code",
   "execution_count": 17,
   "id": "2f6bb57e",
   "metadata": {},
   "outputs": [],
   "source": [
    "usd_bist=pd.merge(usd,bist,on=\"Date\")\n",
    "usd_bist_thy=pd.merge(usd_bist,thy,on=\"Date\")\n",
    "usd_bist_thy_enf=pd.concat([usd_bist_thy,enf],axis=1)\n",
    "usd_bist_thy_enf.to_excel(\"Hisse Tahmin Final Verisi.xlsx\")"
   ]
  },
  {
   "cell_type": "code",
   "execution_count": 18,
   "id": "b2d28732",
   "metadata": {},
   "outputs": [
    {
     "data": {
      "text/html": [
       "<div>\n",
       "<style scoped>\n",
       "    .dataframe tbody tr th:only-of-type {\n",
       "        vertical-align: middle;\n",
       "    }\n",
       "\n",
       "    .dataframe tbody tr th {\n",
       "        vertical-align: top;\n",
       "    }\n",
       "\n",
       "    .dataframe thead th {\n",
       "        text-align: right;\n",
       "    }\n",
       "</style>\n",
       "<table border=\"1\" class=\"dataframe\">\n",
       "  <thead>\n",
       "    <tr style=\"text-align: right;\">\n",
       "      <th></th>\n",
       "      <th>Date</th>\n",
       "      <th>USD_Kapanış</th>\n",
       "      <th>BIST_Kapanış</th>\n",
       "      <th>BIST_Hacim</th>\n",
       "      <th>THY_Kapanış</th>\n",
       "      <th>THY_Hacim</th>\n",
       "      <th>Yıllık TÜFE</th>\n",
       "      <th>Aylık TÜFE</th>\n",
       "    </tr>\n",
       "  </thead>\n",
       "  <tbody>\n",
       "    <tr>\n",
       "      <th>0</th>\n",
       "      <td>2005-02-01</td>\n",
       "      <td>1.278</td>\n",
       "      <td>28396.199</td>\n",
       "      <td>5.888984e+09</td>\n",
       "      <td>0.938</td>\n",
       "      <td>137200367.0</td>\n",
       "      <td>9.24</td>\n",
       "      <td>0.55</td>\n",
       "    </tr>\n",
       "    <tr>\n",
       "      <th>1</th>\n",
       "      <td>2005-03-01</td>\n",
       "      <td>1.349</td>\n",
       "      <td>25557.801</td>\n",
       "      <td>4.905866e+09</td>\n",
       "      <td>0.805</td>\n",
       "      <td>170937923.0</td>\n",
       "      <td>8.69</td>\n",
       "      <td>0.02</td>\n",
       "    </tr>\n",
       "    <tr>\n",
       "      <th>2</th>\n",
       "      <td>2005-04-01</td>\n",
       "      <td>1.382</td>\n",
       "      <td>23591.600</td>\n",
       "      <td>3.873826e+09</td>\n",
       "      <td>0.666</td>\n",
       "      <td>90457689.0</td>\n",
       "      <td>7.94</td>\n",
       "      <td>0.26</td>\n",
       "    </tr>\n",
       "    <tr>\n",
       "      <th>3</th>\n",
       "      <td>2005-05-01</td>\n",
       "      <td>1.357</td>\n",
       "      <td>25236.500</td>\n",
       "      <td>4.275625e+09</td>\n",
       "      <td>0.805</td>\n",
       "      <td>123697411.0</td>\n",
       "      <td>8.18</td>\n",
       "      <td>0.71</td>\n",
       "    </tr>\n",
       "    <tr>\n",
       "      <th>4</th>\n",
       "      <td>2005-06-01</td>\n",
       "      <td>1.327</td>\n",
       "      <td>26957.301</td>\n",
       "      <td>4.120207e+09</td>\n",
       "      <td>0.945</td>\n",
       "      <td>126201054.0</td>\n",
       "      <td>8.70</td>\n",
       "      <td>0.92</td>\n",
       "    </tr>\n",
       "  </tbody>\n",
       "</table>\n",
       "</div>"
      ],
      "text/plain": [
       "        Date  USD_Kapanış  BIST_Kapanış    BIST_Hacim  THY_Kapanış  \\\n",
       "0 2005-02-01        1.278     28396.199  5.888984e+09        0.938   \n",
       "1 2005-03-01        1.349     25557.801  4.905866e+09        0.805   \n",
       "2 2005-04-01        1.382     23591.600  3.873826e+09        0.666   \n",
       "3 2005-05-01        1.357     25236.500  4.275625e+09        0.805   \n",
       "4 2005-06-01        1.327     26957.301  4.120207e+09        0.945   \n",
       "\n",
       "     THY_Hacim  Yıllık TÜFE  Aylık TÜFE  \n",
       "0  137200367.0         9.24        0.55  \n",
       "1  170937923.0         8.69        0.02  \n",
       "2   90457689.0         7.94        0.26  \n",
       "3  123697411.0         8.18        0.71  \n",
       "4  126201054.0         8.70        0.92  "
      ]
     },
     "execution_count": 18,
     "metadata": {},
     "output_type": "execute_result"
    }
   ],
   "source": [
    "usd_bist_thy_enf.head()"
   ]
  },
  {
   "cell_type": "code",
   "execution_count": 21,
   "id": "cf92dbe5",
   "metadata": {},
   "outputs": [],
   "source": [
    "from sklearn.metrics import mean_squared_error\n",
    "from math import sqrt\n",
    "from sklearn.metrics import r2_score\n",
    "from sklearn.preprocessing import StandardScaler\n",
    "from sklearn.model_selection import train_test_split\n",
    "import matplotlib.pyplot as plt\n",
    "import tensorflow as tf\n",
    "from tensorflow.keras.models import Sequential\n",
    "from tensorflow.keras.layers import Dense, Dropout,LSTM\n",
    "from sklearn.preprocessing import MinMaxScaler\n"
   ]
  },
  {
   "cell_type": "code",
   "execution_count": 22,
   "id": "3e47c03b",
   "metadata": {},
   "outputs": [],
   "source": [
    "data=usd_bist_thy_enf\n",
    "data.fillna(method='ffill', inplace=True)\n",
    "X=data.drop(columns=\"Date\")\n",
    "y=data[\"THY_Kapanış\"]"
   ]
  },
  {
   "cell_type": "code",
   "execution_count": 23,
   "id": "85d53159",
   "metadata": {},
   "outputs": [
    {
     "name": "stderr",
     "output_type": "stream",
     "text": [
      "C:\\Users\\onur_\\AppData\\Local\\Temp\\ipykernel_1064\\3334065168.py:3: FutureWarning: The default value of numeric_only in DataFrame.corr is deprecated. In a future version, it will default to False. Select only valid columns or specify the value of numeric_only to silence this warning.\n",
      "  kor=data.corr()\n"
     ]
    },
    {
     "data": {
      "text/plain": [
       "<Axes: >"
      ]
     },
     "execution_count": 23,
     "metadata": {},
     "output_type": "execute_result"
    },
    {
     "data": {
      "image/png": "[encoded data removed]",
      "text/plain": [
       "<Figure size 1000x800 with 2 Axes>"
      ]
     },
     "metadata": {},
     "output_type": "display_data"
    }
   ],
   "source": [
    "import seaborn as sns\n",
    "\n",
    "kor=data.corr()\n",
    "fig, ax = plt.subplots(figsize=(10,8)) \n",
    "sns.heatmap(kor,annot=True,ax=ax)"
   ]
  },
  {
   "cell_type": "code",
   "execution_count": 24,
   "id": "9ec395e3",
   "metadata": {},
   "outputs": [
    {
     "name": "stdout",
     "output_type": "stream",
     "text": [
      "0:\tlearn: 41.8950462\ttotal: 151ms\tremaining: 2m 30s\n",
      "100:\tlearn: 1.2728521\ttotal: 218ms\tremaining: 1.94s\n",
      "200:\tlearn: 0.4673127\ttotal: 286ms\tremaining: 1.14s\n",
      "300:\tlearn: 0.2372123\ttotal: 354ms\tremaining: 823ms\n",
      "400:\tlearn: 0.1379338\ttotal: 418ms\tremaining: 625ms\n",
      "500:\tlearn: 0.0863858\ttotal: 494ms\tremaining: 492ms\n",
      "600:\tlearn: 0.0526124\ttotal: 590ms\tremaining: 392ms\n",
      "700:\tlearn: 0.0356259\ttotal: 655ms\tremaining: 279ms\n",
      "800:\tlearn: 0.0229432\ttotal: 715ms\tremaining: 178ms\n",
      "900:\tlearn: 0.0146644\ttotal: 776ms\tremaining: 85.3ms\n",
      "999:\tlearn: 0.0096389\ttotal: 860ms\tremaining: 0us\n",
      "Eğitim RMSE: 0.00963899627272376\n",
      "Test RMSE: 6.672542272411765\n"
     ]
    },
    {
     "data": {
      "image/png": "[encoded data removed]",
      "text/plain": [
       "<Figure size 1000x600 with 1 Axes>"
      ]
     },
     "metadata": {},
     "output_type": "display_data"
    }
   ],
   "source": [
    "from catboost import CatBoostRegressor\n",
    "from xgboost import XGBRegressor\n",
    "\n",
    "data=usd_bist_thy_enf\n",
    "data.fillna(method='ffill', inplace=True)\n",
    "X=data.drop(columns={\"Date\",\"THY_Kapanış\"})\n",
    "y=data[\"THY_Kapanış\"]\n",
    "X_train,X_test,y_train,y_test = train_test_split(X,y,test_size=0.2\n",
    "                                                ,random_state=42)\n",
    "\n",
    "model = CatBoostRegressor(\n",
    "    n_estimators=1000,  # Ağaç sayısı\n",
    "    learning_rate=0.1,  # Öğrenme oranı\n",
    "    max_depth=6         # Ağaçların maksimum derinliği\n",
    ")\n",
    "\n",
    "model.fit(X_train,y_train,verbose=100)\n",
    "\n",
    "train_pred = model.predict(X_train)\n",
    "test_pred = model.predict(X_test)\n",
    "train_rmse = mean_squared_error(y_train, train_pred, squared=False)\n",
    "test_rmse = mean_squared_error(y_test, test_pred, squared=False)\n",
    "\n",
    "\n",
    "print(\"Eğitim RMSE:\", train_rmse)\n",
    "print(\"Test RMSE:\", test_rmse)\n",
    "\n",
    "plt.figure(figsize=(10, 6))\n",
    "plt.scatter(y_train, train_pred, color='blue', label='Eğitim Verisi')\n",
    "plt.scatter(y_test, test_pred, color='red', label='Test Verisi')\n",
    "plt.plot([min(y_train), max(y_train)], [min(y_train), max(y_train)], linestyle='--', color='gray')\n",
    "plt.title('Tahminler ve Gerçek Değerler Arasındaki Karşılaştırma')\n",
    "plt.xlabel('Gerçek Değerler')\n",
    "plt.ylabel('Tahmin Edilen Değerler')\n",
    "plt.legend()\n",
    "plt.show()\n"
   ]
  },
  {
   "cell_type": "code",
   "execution_count": 25,
   "id": "a8046a28",
   "metadata": {},
   "outputs": [
    {
     "data": {
      "image/png": "[encoded data removed]",
      "text/plain": [
       "<Figure size 1000x600 with 1 Axes>"
      ]
     },
     "metadata": {},
     "output_type": "display_data"
    }
   ],
   "source": [
    "plt.figure(figsize=(10, 6))\n",
    "plt.scatter(y_train, train_pred - y_train, color='blue', label='Eğitim Verisi')\n",
    "plt.scatter(y_test, test_pred - y_test, color='red', label='Test Verisi')\n",
    "plt.axhline(y=0, color='gray', linestyle='--')\n",
    "plt.title('Gerçek ve Tahmin Edilen Değerler Arasındaki Fark')\n",
    "plt.xlabel('Gerçek Değerler')\n",
    "plt.ylabel('Tahmin Edilen - Gerçek Değerler')\n",
    "plt.legend()\n",
    "plt.show()"
   ]
  },
  {
   "cell_type": "code",
   "execution_count": null,
   "id": "6eacfa51",
   "metadata": {},
   "outputs": [],
   "source": []
  }
 ],
 "metadata": {
  "kernelspec": {
   "display_name": "Python 3 (ipykernel)",
   "language": "python",
   "name": "python3"
  },
  "language_info": {
   "codemirror_mode": {
    "name": "ipython",
    "version": 3
   },
   "file_extension": ".py",
   "mimetype": "text/x-python",
   "name": "python",
   "nbconvert_exporter": "python",
   "pygments_lexer": "ipython3",
   "version": "3.10.9"
  }
 },
 "nbformat": 4,
 "nbformat_minor": 5
}
